{
 "cells": [
  {
   "cell_type": "markdown",
   "metadata": {},
   "source": [
    "# Sentiment Analysis"
   ]
  },
  {
   "cell_type": "markdown",
   "metadata": {},
   "source": [
    "## Import libraries"
   ]
  },
  {
   "cell_type": "code",
   "execution_count": 1,
   "metadata": {
    "ExecuteTime": {
     "end_time": "2020-10-19T14:09:23.776950Z",
     "start_time": "2020-10-19T14:09:06.997381Z"
    }
   },
   "outputs": [
    {
     "name": "stderr",
     "output_type": "stream",
     "text": [
      "[nltk_data] Downloading package stopwords to\n",
      "[nltk_data]     C:\\Users\\SwartP\\AppData\\Roaming\\nltk_data...\n",
      "[nltk_data]   Package stopwords is already up-to-date!\n",
      "[nltk_data] Downloading package wordnet to\n",
      "[nltk_data]     C:\\Users\\SwartP\\AppData\\Roaming\\nltk_data...\n",
      "[nltk_data]   Package wordnet is already up-to-date!\n"
     ]
    }
   ],
   "source": [
    "## Basics\n",
    "import numpy as np\n",
    "import pandas as pd\n",
    "import matplotlib.pyplot as plt\n",
    "%matplotlib inline\n",
    "import seaborn as sns\n",
    "\n",
    "## Tesxt preporcessing\n",
    "import nltk\n",
    "import re\n",
    "import string\n",
    "from nltk.corpus import stopwords\n",
    "from nltk.tokenize import word_tokenize, TreebankWordTokenizer, TweetTokenizer\n",
    "from nltk.stem import WordNetLemmatizer\n",
    "nltk.download('stopwords')\n",
    "stop_words = stopwords.words('english')\n",
    "nltk.download('wordnet')\n",
    "stop_words.append(\"n't\")\n",
    "import spacy\n",
    "nlp = spacy.load('en_core_web_lg')\n",
    "\n",
    "## Transform text into vectors                             \n",
    "from sklearn.preprocessing import LabelEncoder\n",
    "from sklearn.feature_extraction.text import CountVectorizer\n",
    "from sklearn.feature_extraction.text import TfidfVectorizer\n",
    "\n",
    "## Train and Test Split\n",
    "from sklearn.model_selection import train_test_split\n",
    "                             \n",
    "## Upsample imbalanced datase\n",
    "from sklearn.utils import resample\n",
    "from imblearn.over_sampling import SMOTE, SMOTENC,BorderlineSMOTE,SVMSMOTE ,ADASYN,KMeansSMOTE\n",
    "\n",
    "## Build Models\n",
    "from sklearn.linear_model import LogisticRegression\n",
    "from catboost import CatBoostClassifier, Pool\n",
    "from sklearn.tree import DecisionTreeClassifier                             \n",
    "from sklearn.ensemble import RandomForestClassifier\n",
    "from sklearn.ensemble import AdaBoostClassifier\n",
    "from sklearn.naive_bayes import GaussianNB\n",
    "from sklearn.neighbors import KNeighborsClassifier                             \n",
    "from sklearn.naive_bayes import MultinomialNB\n",
    "from sklearn.svm import SVC\n",
    "from xgboost import XGBClassifier\n",
    "from catboost import CatBoostClassifier, Pool\n",
    "from sklearn.svm import LinearSVC\n",
    "                             \n",
    "## Test model\n",
    "from sklearn.metrics import classification_report"
   ]
  },
  {
   "cell_type": "markdown",
   "metadata": {},
   "source": [
    "## Import data"
   ]
  },
  {
   "cell_type": "code",
   "execution_count": 2,
   "metadata": {
    "ExecuteTime": {
     "end_time": "2020-10-18T03:36:54.511349Z",
     "start_time": "2020-10-18T03:36:54.471442Z"
    }
   },
   "outputs": [],
   "source": [
    "data=pd.read_csv(r'C:\\Users\\SwartP\\OneDrive - Platinum Life (Proprietary) Limited\\Documents\\Data Science\\Explore Data Science\\Sprint 6-Classification\\Predict\\climate-change-edsa2020-21\\train.csv')"
   ]
  },
  {
   "cell_type": "code",
   "execution_count": 3,
   "metadata": {
    "ExecuteTime": {
     "end_time": "2020-10-18T03:36:54.551228Z",
     "start_time": "2020-10-18T03:36:54.513330Z"
    }
   },
   "outputs": [
    {
     "data": {
      "text/html": [
       "<div>\n",
       "<style scoped>\n",
       "    .dataframe tbody tr th:only-of-type {\n",
       "        vertical-align: middle;\n",
       "    }\n",
       "\n",
       "    .dataframe tbody tr th {\n",
       "        vertical-align: top;\n",
       "    }\n",
       "\n",
       "    .dataframe thead th {\n",
       "        text-align: right;\n",
       "    }\n",
       "</style>\n",
       "<table border=\"1\" class=\"dataframe\">\n",
       "  <thead>\n",
       "    <tr style=\"text-align: right;\">\n",
       "      <th></th>\n",
       "      <th>sentiment</th>\n",
       "      <th>message</th>\n",
       "      <th>tweetid</th>\n",
       "    </tr>\n",
       "  </thead>\n",
       "  <tbody>\n",
       "    <tr>\n",
       "      <th>count</th>\n",
       "      <td>15819.000000</td>\n",
       "      <td>15819</td>\n",
       "      <td>15819.000000</td>\n",
       "    </tr>\n",
       "    <tr>\n",
       "      <th>unique</th>\n",
       "      <td>NaN</td>\n",
       "      <td>14229</td>\n",
       "      <td>NaN</td>\n",
       "    </tr>\n",
       "    <tr>\n",
       "      <th>top</th>\n",
       "      <td>NaN</td>\n",
       "      <td>RT @StephenSchlegel: she's thinking about how ...</td>\n",
       "      <td>NaN</td>\n",
       "    </tr>\n",
       "    <tr>\n",
       "      <th>freq</th>\n",
       "      <td>NaN</td>\n",
       "      <td>307</td>\n",
       "      <td>NaN</td>\n",
       "    </tr>\n",
       "    <tr>\n",
       "      <th>mean</th>\n",
       "      <td>0.917504</td>\n",
       "      <td>NaN</td>\n",
       "      <td>501719.433656</td>\n",
       "    </tr>\n",
       "    <tr>\n",
       "      <th>std</th>\n",
       "      <td>0.836537</td>\n",
       "      <td>NaN</td>\n",
       "      <td>289045.983132</td>\n",
       "    </tr>\n",
       "    <tr>\n",
       "      <th>min</th>\n",
       "      <td>-1.000000</td>\n",
       "      <td>NaN</td>\n",
       "      <td>6.000000</td>\n",
       "    </tr>\n",
       "    <tr>\n",
       "      <th>25%</th>\n",
       "      <td>1.000000</td>\n",
       "      <td>NaN</td>\n",
       "      <td>253207.500000</td>\n",
       "    </tr>\n",
       "    <tr>\n",
       "      <th>50%</th>\n",
       "      <td>1.000000</td>\n",
       "      <td>NaN</td>\n",
       "      <td>502291.000000</td>\n",
       "    </tr>\n",
       "    <tr>\n",
       "      <th>75%</th>\n",
       "      <td>1.000000</td>\n",
       "      <td>NaN</td>\n",
       "      <td>753769.000000</td>\n",
       "    </tr>\n",
       "    <tr>\n",
       "      <th>max</th>\n",
       "      <td>2.000000</td>\n",
       "      <td>NaN</td>\n",
       "      <td>999888.000000</td>\n",
       "    </tr>\n",
       "  </tbody>\n",
       "</table>\n",
       "</div>"
      ],
      "text/plain": [
       "           sentiment                                            message  \\\n",
       "count   15819.000000                                              15819   \n",
       "unique           NaN                                              14229   \n",
       "top              NaN  RT @StephenSchlegel: she's thinking about how ...   \n",
       "freq             NaN                                                307   \n",
       "mean        0.917504                                                NaN   \n",
       "std         0.836537                                                NaN   \n",
       "min        -1.000000                                                NaN   \n",
       "25%         1.000000                                                NaN   \n",
       "50%         1.000000                                                NaN   \n",
       "75%         1.000000                                                NaN   \n",
       "max         2.000000                                                NaN   \n",
       "\n",
       "              tweetid  \n",
       "count    15819.000000  \n",
       "unique            NaN  \n",
       "top               NaN  \n",
       "freq              NaN  \n",
       "mean    501719.433656  \n",
       "std     289045.983132  \n",
       "min          6.000000  \n",
       "25%     253207.500000  \n",
       "50%     502291.000000  \n",
       "75%     753769.000000  \n",
       "max     999888.000000  "
      ]
     },
     "execution_count": 3,
     "metadata": {},
     "output_type": "execute_result"
    }
   ],
   "source": [
    "data.describe(include='all')"
   ]
  },
  {
   "cell_type": "code",
   "execution_count": 4,
   "metadata": {
    "ExecuteTime": {
     "end_time": "2020-10-18T03:36:54.720804Z",
     "start_time": "2020-10-18T03:36:54.552226Z"
    }
   },
   "outputs": [
    {
     "data": {
      "image/png": "[encoded data removed]",
      "text/plain": [
       "<Figure size 432x288 with 1 Axes>"
      ]
     },
     "metadata": {
      "needs_background": "light"
     },
     "output_type": "display_data"
    }
   ],
   "source": [
    "data['sentiment'].value_counts().plot(kind = 'bar')\n",
    "plt.show()"
   ]
  },
  {
   "cell_type": "markdown",
   "metadata": {},
   "source": [
    "## Text Preporcessing"
   ]
  },
  {
   "cell_type": "code",
   "execution_count": 5,
   "metadata": {
    "ExecuteTime": {
     "end_time": "2020-10-18T03:36:54.730751Z",
     "start_time": "2020-10-18T03:36:54.722785Z"
    }
   },
   "outputs": [
    {
     "data": {
      "text/plain": [
       "['a',\n",
       " 'about',\n",
       " 'above',\n",
       " 'after',\n",
       " 'again',\n",
       " 'against',\n",
       " 'ain',\n",
       " 'all',\n",
       " 'am',\n",
       " 'an',\n",
       " 'and',\n",
       " 'any',\n",
       " 'are',\n",
       " 'aren',\n",
       " \"aren't\",\n",
       " 'as',\n",
       " 'at',\n",
       " 'be',\n",
       " 'because',\n",
       " 'been',\n",
       " 'before',\n",
       " 'being',\n",
       " 'below',\n",
       " 'between',\n",
       " 'both',\n",
       " 'but',\n",
       " 'by',\n",
       " 'can',\n",
       " 'couldn',\n",
       " \"couldn't\",\n",
       " 'd',\n",
       " 'did',\n",
       " 'didn',\n",
       " \"didn't\",\n",
       " 'do',\n",
       " 'does',\n",
       " 'doesn',\n",
       " \"doesn't\",\n",
       " 'doing',\n",
       " 'don',\n",
       " \"don't\",\n",
       " 'down',\n",
       " 'during',\n",
       " 'each',\n",
       " 'few',\n",
       " 'for',\n",
       " 'from',\n",
       " 'further',\n",
       " 'had',\n",
       " 'hadn',\n",
       " \"hadn't\",\n",
       " 'has',\n",
       " 'hasn',\n",
       " \"hasn't\",\n",
       " 'have',\n",
       " 'haven',\n",
       " \"haven't\",\n",
       " 'having',\n",
       " 'he',\n",
       " 'her',\n",
       " 'here',\n",
       " 'hers',\n",
       " 'herself',\n",
       " 'him',\n",
       " 'himself',\n",
       " 'his',\n",
       " 'how',\n",
       " 'i',\n",
       " 'if',\n",
       " 'in',\n",
       " 'into',\n",
       " 'is',\n",
       " 'isn',\n",
       " \"isn't\",\n",
       " 'it',\n",
       " \"it's\",\n",
       " 'its',\n",
       " 'itself',\n",
       " 'just',\n",
       " 'll',\n",
       " 'm',\n",
       " 'ma',\n",
       " 'me',\n",
       " 'mightn',\n",
       " \"mightn't\",\n",
       " 'more',\n",
       " 'most',\n",
       " 'mustn',\n",
       " \"mustn't\",\n",
       " 'my',\n",
       " 'myself',\n",
       " \"n't\",\n",
       " 'needn',\n",
       " \"needn't\",\n",
       " 'no',\n",
       " 'nor',\n",
       " 'not',\n",
       " 'now',\n",
       " 'o',\n",
       " 'of',\n",
       " 'off',\n",
       " 'on',\n",
       " 'once',\n",
       " 'only',\n",
       " 'or',\n",
       " 'other',\n",
       " 'our',\n",
       " 'ours',\n",
       " 'ourselves',\n",
       " 'out',\n",
       " 'over',\n",
       " 'own',\n",
       " 're',\n",
       " 's',\n",
       " 'same',\n",
       " 'shan',\n",
       " \"shan't\",\n",
       " 'she',\n",
       " \"she's\",\n",
       " 'should',\n",
       " \"should've\",\n",
       " 'shouldn',\n",
       " \"shouldn't\",\n",
       " 'so',\n",
       " 'some',\n",
       " 'such',\n",
       " 't',\n",
       " 'than',\n",
       " 'that',\n",
       " \"that'll\",\n",
       " 'the',\n",
       " 'their',\n",
       " 'theirs',\n",
       " 'them',\n",
       " 'themselves',\n",
       " 'then',\n",
       " 'there',\n",
       " 'these',\n",
       " 'they',\n",
       " 'this',\n",
       " 'those',\n",
       " 'through',\n",
       " 'to',\n",
       " 'too',\n",
       " 'under',\n",
       " 'until',\n",
       " 'up',\n",
       " 've',\n",
       " 'very',\n",
       " 'was',\n",
       " 'wasn',\n",
       " \"wasn't\",\n",
       " 'we',\n",
       " 'were',\n",
       " 'weren',\n",
       " \"weren't\",\n",
       " 'what',\n",
       " 'when',\n",
       " 'where',\n",
       " 'which',\n",
       " 'while',\n",
       " 'who',\n",
       " 'whom',\n",
       " 'why',\n",
       " 'will',\n",
       " 'with',\n",
       " 'won',\n",
       " \"won't\",\n",
       " 'wouldn',\n",
       " \"wouldn't\",\n",
       " 'y',\n",
       " 'you',\n",
       " \"you'd\",\n",
       " \"you'll\",\n",
       " \"you're\",\n",
       " \"you've\",\n",
       " 'your',\n",
       " 'yours',\n",
       " 'yourself',\n",
       " 'yourselves']"
      ]
     },
     "execution_count": 5,
     "metadata": {},
     "output_type": "execute_result"
    }
   ],
   "source": [
    "sorted(stop_words)"
   ]
  },
  {
   "cell_type": "code",
   "execution_count": 6,
   "metadata": {
    "ExecuteTime": {
     "end_time": "2020-10-18T03:36:54.743724Z",
     "start_time": "2020-10-18T03:36:54.732745Z"
    }
   },
   "outputs": [],
   "source": [
    "def format_words(inputtext):\n",
    "    formatted=inputtext.encode('ascii', 'ignore').decode()\n",
    "    #formatted=re.sub(r'\\B#\\w*[a-zA-Z]+\\w*','', formatted) # Remove hastags\n",
    "    #formatted=re.sub(r'\\B@\\w*[a-zA-Z]+\\w*','', formatted) # remove mentions\n",
    "    #formatted=re.sub(r'\\w*\\d+\\w*', '', formatted) # remove numbers\n",
    "    formatted=re.sub(r'\\w+:\\/{2}[\\d\\w-]+(\\.[\\d\\w-]+)*(?:(?:\\/[^\\s/]*))*', 'web_url', formatted) # remove links\n",
    "    tknzr = TweetTokenizer()\n",
    "    formatted=tknzr.tokenize(formatted)\n",
    "    formatted=[x.lower() for x in formatted]\n",
    "    formatted=[word for word in formatted if word not in stop_words]\n",
    "    #formatted=[word for word in formatted if word!='rt']\n",
    "    lemmatizer = WordNetLemmatizer()\n",
    "    formatted=[lemmatizer.lemmatize(x) for x in formatted]\n",
    "    formatted=' '.join([x for x in formatted])\n",
    "    formatted=''.join(x for x in formatted if x not in string.punctuation)\n",
    "    formatted=re.sub(' +',' ',formatted).strip()\n",
    "    return formatted"
   ]
  },
  {
   "cell_type": "code",
   "execution_count": 7,
   "metadata": {
    "ExecuteTime": {
     "end_time": "2020-10-18T03:36:59.484099Z",
     "start_time": "2020-10-18T03:36:54.744711Z"
    }
   },
   "outputs": [],
   "source": [
    "data['format_message']=data['message'].apply(lambda x:format_words(x))"
   ]
  },
  {
   "cell_type": "code",
   "execution_count": 8,
   "metadata": {
    "ExecuteTime": {
     "end_time": "2020-10-18T03:36:59.494073Z",
     "start_time": "2020-10-18T03:36:59.487095Z"
    }
   },
   "outputs": [],
   "source": [
    "def show_ents(doc):\n",
    "    if doc.ents:\n",
    "        for ent in doc.ents:\n",
    "            print(ent.text+' - '+ent.label_+' - '+str(spacy.explain(ent.label_)))\n",
    "    else:\n",
    "        print('No named entities found.')"
   ]
  },
  {
   "cell_type": "code",
   "execution_count": 9,
   "metadata": {
    "ExecuteTime": {
     "end_time": "2020-10-18T03:36:59.509034Z",
     "start_time": "2020-10-18T03:36:59.496068Z"
    }
   },
   "outputs": [],
   "source": [
    "def add_pos(inputtext):\n",
    "    final=[]\n",
    "    formatted=inputtext.encode('ascii', 'ignore').decode()\n",
    "    formatted=re.sub(r'\\w*\\d+\\w*', '', formatted) # remove numbers\n",
    "    formatted=re.sub(r'\\w+:\\/{2}[\\d\\w-]+(\\.[\\d\\w-]+)*(?:(?:\\/[^\\s/]*))*', 'web_url', formatted)\n",
    "    doc=nlp(formatted)\n",
    "    for item in doc:\n",
    "        if item.pos_ not in ['PRON','PUNCT']:\n",
    "            final.append((item.lemma_ +' ' + item.tag_) )\n",
    "    if doc.ents:\n",
    "        for ent in doc.ents:\n",
    "            final.append(ent.label_)\n",
    "    returnstring=' '.join([x.lower() for x in final])\n",
    "    return returnstring\n",
    "        "
   ]
  },
  {
   "cell_type": "code",
   "execution_count": 10,
   "metadata": {
    "ExecuteTime": {
     "end_time": "2020-10-18T03:39:13.752583Z",
     "start_time": "2020-10-18T03:36:59.510033Z"
    }
   },
   "outputs": [],
   "source": [
    "data['spacy_message']= data['message'].apply(lambda x:add_pos(x))"
   ]
  },
  {
   "cell_type": "code",
   "execution_count": 11,
   "metadata": {
    "ExecuteTime": {
     "end_time": "2020-10-18T03:39:13.761534Z",
     "start_time": "2020-10-18T03:39:13.753569Z"
    }
   },
   "outputs": [
    {
     "data": {
      "text/plain": [
       "'polyscimajor nnp epa nnp chief nn do vbz not rb think vb carbon nn dioxide nn be vbz main jj cause nn of in global jj warming nn and cc wait vb web_url uh via in @mashable nnp org org'"
      ]
     },
     "execution_count": 11,
     "metadata": {},
     "output_type": "execute_result"
    }
   ],
   "source": [
    "data['spacy_message'][0]"
   ]
  },
  {
   "cell_type": "markdown",
   "metadata": {
    "ExecuteTime": {
     "end_time": "2020-10-16T04:51:02.649796Z",
     "start_time": "2020-10-16T04:51:02.634836Z"
    }
   },
   "source": [
    "## Vectorize"
   ]
  },
  {
   "cell_type": "code",
   "execution_count": 12,
   "metadata": {
    "ExecuteTime": {
     "end_time": "2020-10-18T03:39:13.771566Z",
     "start_time": "2020-10-18T03:39:13.763527Z"
    }
   },
   "outputs": [],
   "source": [
    "vect=TfidfVectorizer(lowercase=True, stop_words='english', ngram_range=(1,3), min_df=3)\n",
    "#vect=CountVectorizer(lowercase=True, stop_words='english', ngram_range=(1,2), min_df=2)"
   ]
  },
  {
   "cell_type": "code",
   "execution_count": 13,
   "metadata": {
    "ExecuteTime": {
     "end_time": "2020-10-18T03:39:15.100071Z",
     "start_time": "2020-10-18T03:39:13.772503Z"
    }
   },
   "outputs": [],
   "source": [
    "X_count = vect.fit_transform(data['spacy_message'])"
   ]
  },
  {
   "cell_type": "code",
   "execution_count": 14,
   "metadata": {
    "ExecuteTime": {
     "end_time": "2020-10-18T03:39:15.106858Z",
     "start_time": "2020-10-18T03:39:15.101870Z"
    }
   },
   "outputs": [
    {
     "data": {
      "text/plain": [
       "(15819, 39826)"
      ]
     },
     "execution_count": 14,
     "metadata": {},
     "output_type": "execute_result"
    }
   ],
   "source": [
    "X_count.shape"
   ]
  },
  {
   "cell_type": "code",
   "execution_count": 15,
   "metadata": {
    "ExecuteTime": {
     "end_time": "2020-10-18T03:39:15.153066Z",
     "start_time": "2020-10-18T03:39:15.108864Z"
    }
   },
   "outputs": [
    {
     "data": {
      "text/plain": [
       "['_makada',\n",
       " '_makada add',\n",
       " '_makada add nn',\n",
       " '_sp',\n",
       " '_sp _sp',\n",
       " '_sp _sp vbp',\n",
       " '_sp accept',\n",
       " '_sp accept vb',\n",
       " '_sp add',\n",
       " '_sp agency',\n",
       " '_sp agency nns',\n",
       " '_sp america',\n",
       " '_sp animal',\n",
       " '_sp australia',\n",
       " '_sp australia nnp',\n",
       " '_sp bad',\n",
       " '_sp bad jj',\n",
       " '_sp battle',\n",
       " '_sp bbc',\n",
       " '_sp bbc nnp',\n",
       " '_sp big',\n",
       " '_sp big jj',\n",
       " '_sp big jjs',\n",
       " '_sp billion',\n",
       " '_sp billion cd',\n",
       " '_sp c_m_dangelo',\n",
       " '_sp c_m_dangelo xx',\n",
       " '_sp cardinal',\n",
       " '_sp cause',\n",
       " '_sp cause vbz',\n",
       " '_sp cc',\n",
       " '_sp cc _sp',\n",
       " '_sp cc amp',\n",
       " '_sp cc climate',\n",
       " '_sp cc contradict',\n",
       " '_sp cc dt',\n",
       " '_sp cc global',\n",
       " '_sp cc gt',\n",
       " '_sp cc md',\n",
       " '_sp cc people',\n",
       " '_sp cc pron',\n",
       " '_sp cc rb',\n",
       " '_sp cc slow',\n",
       " '_sp cc vbp',\n",
       " '_sp cc vbz',\n",
       " '_sp cc wrb',\n",
       " '_sp cd',\n",
       " '_sp cent',\n",
       " '_sp cent nn',\n",
       " '_sp century',\n",
       " '_sp century nn',\n",
       " '_sp chart',\n",
       " '_sp chart nns',\n",
       " '_sp china',\n",
       " '_sp china nnp',\n",
       " '_sp climate',\n",
       " '_sp climate nn',\n",
       " '_sp climatechange',\n",
       " '_sp climatechange nnp',\n",
       " '_sp climatechangeisreal',\n",
       " '_sp country',\n",
       " '_sp country nns',\n",
       " '_sp date',\n",
       " '_sp day',\n",
       " '_sp day nn',\n",
       " '_sp day nns',\n",
       " '_sp degree',\n",
       " '_sp degree nn',\n",
       " '_sp degree nns',\n",
       " '_sp deny',\n",
       " '_sp drive',\n",
       " '_sp drive vbz',\n",
       " '_sp drop',\n",
       " '_sp drop vb',\n",
       " '_sp dt',\n",
       " '_sp dt _sp',\n",
       " '_sp dt climate',\n",
       " '_sp dt country',\n",
       " '_sp dt dead',\n",
       " '_sp dt jj',\n",
       " '_sp dt nn',\n",
       " '_sp dt scifi',\n",
       " '_sp dt vbz',\n",
       " '_sp emission',\n",
       " '_sp emission nns',\n",
       " '_sp emit',\n",
       " '_sp emit vbn',\n",
       " '_sp energy',\n",
       " '_sp environment',\n",
       " '_sp environment nn',\n",
       " '_sp epa',\n",
       " '_sp epa nnp',\n",
       " '_sp extreme',\n",
       " '_sp extreme jj',\n",
       " '_sp fact',\n",
       " '_sp fact nn',\n",
       " '_sp fight',\n",
       " '_sp fight vb',\n",
       " '_sp film',\n",
       " '_sp film nn',\n",
       " '_sp food',\n",
       " '_sp food nns',\n",
       " '_sp fossil',\n",
       " '_sp gender',\n",
       " '_sp gender nns',\n",
       " '_sp global',\n",
       " '_sp global jj',\n",
       " '_sp globalwarming',\n",
       " '_sp globalwarming nnp',\n",
       " '_sp god',\n",
       " '_sp god nnp',\n",
       " '_sp good',\n",
       " '_sp good jj',\n",
       " '_sp gpe',\n",
       " '_sp great',\n",
       " '_sp great jj',\n",
       " '_sp guess',\n",
       " '_sp halt',\n",
       " '_sp heat',\n",
       " '_sp heat nn',\n",
       " '_sp help',\n",
       " '_sp help vb',\n",
       " '_sp high',\n",
       " '_sp high jjs',\n",
       " '_sp home',\n",
       " '_sp home nns',\n",
       " '_sp hot',\n",
       " '_sp hot jjs',\n",
       " '_sp hour',\n",
       " '_sp hour nn',\n",
       " '_sp hour nns',\n",
       " '_sp house',\n",
       " '_sp house nnp',\n",
       " '_sp hrs',\n",
       " '_sp hrs nn',\n",
       " '_sp ht',\n",
       " '_sp htt',\n",
       " '_sp htt xx',\n",
       " '_sp http',\n",
       " '_sp http nn',\n",
       " '_sp http nnp',\n",
       " '_sp https',\n",
       " '_sp https jj',\n",
       " '_sp https nn',\n",
       " '_sp https nnp',\n",
       " '_sp https xx',\n",
       " '_sp human',\n",
       " '_sp human nns',\n",
       " '_sp hurricane',\n",
       " '_sp inch',\n",
       " '_sp irrefutable',\n",
       " '_sp irrefutable jj',\n",
       " '_sp jj',\n",
       " '_sp jjr',\n",
       " '_sp jjr year',\n",
       " '_sp jjs',\n",
       " '_sp jjs climate',\n",
       " '_sp just',\n",
       " '_sp just rb',\n",
       " '_sp kid',\n",
       " '_sp kid nns',\n",
       " '_sp know',\n",
       " '_sp know vbp',\n",
       " '_sp leader',\n",
       " '_sp leader nns',\n",
       " '_sp let',\n",
       " '_sp let vb',\n",
       " '_sp level',\n",
       " '_sp level nns',\n",
       " '_sp lgbt',\n",
       " '_sp lgbt nnp',\n",
       " '_sp link',\n",
       " '_sp link nn',\n",
       " '_sp ls',\n",
       " '_sp man',\n",
       " '_sp man nn',\n",
       " '_sp maps',\n",
       " '_sp maps nnp',\n",
       " '_sp md',\n",
       " '_sp md rb',\n",
       " '_sp md vb',\n",
       " '_sp mean',\n",
       " '_sp melania',\n",
       " '_sp melania nnp',\n",
       " '_sp meteorologist',\n",
       " '_sp mile',\n",
       " '_sp mile nns',\n",
       " '_sp million',\n",
       " '_sp million cd',\n",
       " '_sp min',\n",
       " '_sp min nnp',\n",
       " '_sp min nns',\n",
       " '_sp minute',\n",
       " '_sp minute nn',\n",
       " '_sp minute nns',\n",
       " '_sp month',\n",
       " '_sp month nns',\n",
       " '_sp nation',\n",
       " '_sp nation nns',\n",
       " '_sp need',\n",
       " '_sp need vbp',\n",
       " '_sp new',\n",
       " '_sp nn',\n",
       " '_sp nn _sp',\n",
       " '_sp nn climate',\n",
       " '_sp nn climatechange',\n",
       " '_sp nn climatemarch',\n",
       " '_sp nn globalgoal',\n",
       " '_sp nn maga',\n",
       " '_sp nn nn',\n",
       " '_sp nn org',\n",
       " '_sp nn resist',\n",
       " '_sp nn web_url',\n",
       " '_sp nnp',\n",
       " '_sp nnp climate',\n",
       " '_sp nnp drvox',\n",
       " '_sp nnp org',\n",
       " '_sp nnp sym',\n",
       " '_sp nns',\n",
       " '_sp norp',\n",
       " '_sp november',\n",
       " '_sp november nnp',\n",
       " '_sp oh',\n",
       " '_sp oh uh',\n",
       " '_sp org',\n",
       " '_sp org cardinal',\n",
       " '_sp org date',\n",
       " '_sp org gpe',\n",
       " '_sp org money',\n",
       " '_sp org norp',\n",
       " '_sp org org',\n",
       " '_sp org person',\n",
       " '_sp pay',\n",
       " '_sp people',\n",
       " '_sp people nns',\n",
       " '_sp percent',\n",
       " '_sp percent nn',\n",
       " '_sp person',\n",
       " '_sp person person',\n",
       " '_sp plan',\n",
       " '_sp politician',\n",
       " '_sp politician nns',\n",
       " '_sp pos',\n",
       " '_sp pos climate',\n",
       " '_sp president',\n",
       " '_sp pron',\n",
       " '_sp pron prp',\n",
       " '_sp raise',\n",
       " '_sp raise vbg',\n",
       " '_sp rb',\n",
       " '_sp rb _sp',\n",
       " '_sp rb climate',\n",
       " '_sp rb dt',\n",
       " '_sp rb global',\n",
       " '_sp rb main',\n",
       " '_sp rb org',\n",
       " '_sp rb primary',\n",
       " '_sp rb rb',\n",
       " '_sp rb vbp',\n",
       " '_sp rb vbz',\n",
       " '_sp read',\n",
       " '_sp read vb',\n",
       " '_sp report',\n",
       " '_sp rise',\n",
       " '_sp role',\n",
       " '_sp role nn',\n",
       " '_sp rt',\n",
       " '_sp rt nnp',\n",
       " '_sp save',\n",
       " '_sp save vb',\n",
       " '_sp say',\n",
       " '_sp say vbz',\n",
       " '_sp science',\n",
       " '_sp science nn',\n",
       " '_sp scientist',\n",
       " '_sp scientist nn',\n",
       " '_sp scientist nns',\n",
       " '_sp scott',\n",
       " '_sp scott nnp',\n",
       " '_sp second',\n",
       " '_sp second nns',\n",
       " '_sp set',\n",
       " '_sp set vbd',\n",
       " '_sp solution',\n",
       " '_sp solution nns',\n",
       " '_sp state',\n",
       " '_sp state nns',\n",
       " '_sp stop',\n",
       " '_sp stop vb',\n",
       " '_sp study',\n",
       " '_sp summit',\n",
       " '_sp summit nn',\n",
       " '_sp support',\n",
       " '_sp talk',\n",
       " '_sp terrifying',\n",
       " '_sp terrifying jj',\n",
       " '_sp thank',\n",
       " '_sp thank nns',\n",
       " '_sp thank vbp',\n",
       " '_sp thing',\n",
       " '_sp thing nns',\n",
       " '_sp think',\n",
       " '_sp think vbp',\n",
       " '_sp time',\n",
       " '_sp time nn',\n",
       " '_sp time nns',\n",
       " '_sp times',\n",
       " '_sp times nnp',\n",
       " '_sp today',\n",
       " '_sp today nn',\n",
       " '_sp tree',\n",
       " '_sp tree nns',\n",
       " '_sp trump',\n",
       " '_sp trump nnp',\n",
       " '_sp uh',\n",
       " '_sp uh rt',\n",
       " '_sp underscore',\n",
       " '_sp underscore vbp',\n",
       " '_sp understand',\n",
       " '_sp vb',\n",
       " '_sp vb climate',\n",
       " '_sp vb dt',\n",
       " '_sp vb pron',\n",
       " '_sp vb rb',\n",
       " '_sp vb vbn',\n",
       " '_sp vb vegan',\n",
       " '_sp vbd',\n",
       " '_sp vbd dt',\n",
       " '_sp vbd rb',\n",
       " '_sp vbg',\n",
       " '_sp vbp',\n",
       " '_sp vbp dt',\n",
       " '_sp vbp rb',\n",
       " '_sp vbp sue',\n",
       " '_sp vbp vbg',\n",
       " '_sp vbz',\n",
       " '_sp vbz drive',\n",
       " '_sp vbz dt',\n",
       " '_sp vbz rb',\n",
       " '_sp video',\n",
       " '_sp video nn',\n",
       " '_sp vote',\n",
       " '_sp vote nn',\n",
       " '_sp voting',\n",
       " '_sp voting nn',\n",
       " '_sp watch',\n",
       " '_sp way',\n",
       " '_sp way nns',\n",
       " '_sp wdt',\n",
       " '_sp web_url',\n",
       " '_sp web_url add',\n",
       " '_sp web_url nn',\n",
       " '_sp web_url nnp',\n",
       " '_sp web_url vbp',\n",
       " '_sp week',\n",
       " '_sp whistleblower',\n",
       " '_sp whistleblower nn',\n",
       " '_sp white',\n",
       " '_sp white jj',\n",
       " '_sp woman',\n",
       " '_sp woman nns',\n",
       " '_sp world',\n",
       " '_sp world nn',\n",
       " '_sp wrb',\n",
       " '_sp wrb md',\n",
       " '_sp wrb vbz',\n",
       " '_sp yea',\n",
       " '_sp yea uh',\n",
       " '_sp year',\n",
       " '_sp year nn',\n",
       " '_sp year nns',\n",
       " '_sp yes',\n",
       " '_sp yes uh',\n",
       " '_sp yr',\n",
       " '_sp yr nn',\n",
       " '_sp yrs',\n",
       " '_sp yrs nnp',\n",
       " 'aaas',\n",
       " 'aaas nnp',\n",
       " 'ab',\n",
       " 'ab nn',\n",
       " 'abandon',\n",
       " 'abandon vb',\n",
       " 'abandon vb dt',\n",
       " 'abandon vbg',\n",
       " 'abandon vbg climate',\n",
       " 'abandon vbn',\n",
       " 'abbott',\n",
       " 'abbott nnp',\n",
       " 'abc',\n",
       " 'abc nn',\n",
       " 'abc nn john',\n",
       " 'abc nn sec',\n",
       " 'abc nnp',\n",
       " 'abc nnp news',\n",
       " 'abcnews',\n",
       " 'abcnews nnp',\n",
       " 'abcpolitic',\n",
       " 'abcpolitic nns',\n",
       " 'ability',\n",
       " 'ability nn',\n",
       " 'able',\n",
       " 'able jj',\n",
       " 'ableg',\n",
       " 'abolish',\n",
       " 'abortion',\n",
       " 'abortion jj',\n",
       " 'abortion nn',\n",
       " 'abortion nn cc',\n",
       " 'abortion nn gay',\n",
       " 'abortion nns',\n",
       " 'abou',\n",
       " 'abou nnp',\n",
       " 'abraham',\n",
       " 'abraham nnp',\n",
       " 'abraham nnp web_url',\n",
       " 'abrupt',\n",
       " 'abrupt jj',\n",
       " 'abruptly',\n",
       " 'abruptly rb',\n",
       " 'abruptly rb cancel',\n",
       " 'absolute',\n",
       " 'absolute jj',\n",
       " 'absolutely',\n",
       " 'absolutely rb',\n",
       " 'absolutely rb disgusting',\n",
       " 'absorb',\n",
       " 'abstract',\n",
       " 'abstract jj',\n",
       " 'absurd',\n",
       " 'absurd jj',\n",
       " 'abt',\n",
       " 'abt nn',\n",
       " 'abt nn climate',\n",
       " 'abt nnp',\n",
       " 'abt nnp climate',\n",
       " 'abuse',\n",
       " 'abuse nn',\n",
       " 'ac',\n",
       " 'aca',\n",
       " 'academic',\n",
       " 'academy',\n",
       " 'accelerate',\n",
       " 'accelerate vb',\n",
       " 'accelerate vb global',\n",
       " 'accelerate vbg',\n",
       " 'accelerate vbg trump',\n",
       " 'accelerate vbn',\n",
       " 'accelerate vbz',\n",
       " 'accept',\n",
       " 'accept vb',\n",
       " 'accept vb climate',\n",
       " 'accept vb dt',\n",
       " 'accept vb univer',\n",
       " 'accept vb weather',\n",
       " 'accept vbg',\n",
       " 'accept vbn',\n",
       " 'accept vbp',\n",
       " 'accept vbp climate',\n",
       " 'accept vbp dt',\n",
       " 'accept vbz',\n",
       " 'accept vbz climate',\n",
       " 'acceptance',\n",
       " 'acceptance nn',\n",
       " 'access',\n",
       " 'access nn',\n",
       " 'access nnp',\n",
       " 'access nnp pipeline',\n",
       " 'accident',\n",
       " 'accident nn',\n",
       " 'accidentally',\n",
       " 'accidentally rb',\n",
       " 'accomplish',\n",
       " 'accomplish vb',\n",
       " 'accord',\n",
       " 'accord nn',\n",
       " 'accord nn org',\n",
       " 'accord nnp',\n",
       " 'accord nnp climate',\n",
       " 'accord nnp md',\n",
       " 'accord vbg',\n",
       " 'accord vbg dt',\n",
       " 'accord vbg pron',\n",
       " 'accord vbg trump',\n",
       " 'account',\n",
       " 'account nn',\n",
       " 'account nns',\n",
       " 'account vb',\n",
       " 'accurate',\n",
       " 'accurate jj',\n",
       " 'accurate jj web_url',\n",
       " 'accuse',\n",
       " 'accuse vbn',\n",
       " 'accuse vbn vbg',\n",
       " 'achievable',\n",
       " 'achievable jj',\n",
       " 'achieve',\n",
       " 'achieve vb',\n",
       " 'achieve vb org',\n",
       " 'achieve vbg',\n",
       " 'acid',\n",
       " 'acid nn',\n",
       " 'acknowledge',\n",
       " 'acknowledge vb',\n",
       " 'acknowledge vb climate',\n",
       " 'acknowledge vbg',\n",
       " 'act',\n",
       " 'act nn',\n",
       " 'act nn climate',\n",
       " 'act nn war',\n",
       " 'act nnp',\n",
       " 'act nnp https',\n",
       " 'act vb',\n",
       " 'act vb climate',\n",
       " 'act vb dt',\n",
       " 'act vb rb',\n",
       " 'act vb vbz',\n",
       " 'act vbg',\n",
       " 'act vbg climate',\n",
       " 'act vbg like',\n",
       " 'act vbg mitigate',\n",
       " 'act vbp',\n",
       " 'action',\n",
       " 'action nn',\n",
       " 'action nn address',\n",
       " 'action nn cc',\n",
       " 'action nn climate',\n",
       " 'action nn dt',\n",
       " 'action nn global',\n",
       " 'action nn htt',\n",
       " 'action nn https',\n",
       " 'action nn md',\n",
       " 'action nn nn',\n",
       " 'action nn org',\n",
       " 'action nn plan',\n",
       " 'action nn pron',\n",
       " 'action nn rb',\n",
       " 'action nn stop',\n",
       " 'action nn unstoppable',\n",
       " 'action nn vb',\n",
       " 'action nn vbz',\n",
       " 'action nn web_url',\n",
       " 'action nn wi',\n",
       " 'action nnp',\n",
       " 'action nns',\n",
       " 'action nns climate',\n",
       " 'action nns vbp',\n",
       " 'active',\n",
       " 'active jj',\n",
       " 'actively',\n",
       " 'actively rb',\n",
       " 'activism',\n",
       " 'activism nn',\n",
       " 'activist',\n",
       " 'activist nn',\n",
       " 'activist nn web_url',\n",
       " 'activist nns',\n",
       " 'activity',\n",
       " 'activity nn',\n",
       " 'activity nn vbz',\n",
       " 'activity nns',\n",
       " 'actonclimate',\n",
       " 'actonclimate jj',\n",
       " 'actonclimate jj nn',\n",
       " 'actonclimate nn',\n",
       " 'actonclimate nn nn',\n",
       " 'actonclimate nn org',\n",
       " 'actonclimate nn web_url',\n",
       " 'actonclimate nnp',\n",
       " 'actor',\n",
       " 'actor nns',\n",
       " 'actual',\n",
       " 'actual jj',\n",
       " 'actual jj evidence',\n",
       " 'actual jj scientist',\n",
       " 'actualepafact',\n",
       " 'actualepafact vbz',\n",
       " 'actuallivingscientist',\n",
       " 'actuallivingscientist nn',\n",
       " 'actually',\n",
       " 'actually rb',\n",
       " 'actually rb believe',\n",
       " 'actually rb dt',\n",
       " 'actually rb happen',\n",
       " 'actually rb nnp',\n",
       " 'actually rb pron',\n",
       " 'actually rb rb',\n",
       " 'actually rb start',\n",
       " 'actually rb vbz',\n",
       " 'ad',\n",
       " 'ad nn',\n",
       " 'ad nn nyt',\n",
       " 'adalah',\n",
       " 'adalah nnp',\n",
       " 'adalah nnp penyebab',\n",
       " 'adambandt',\n",
       " 'adambandt nnp',\n",
       " 'adamcurry',\n",
       " 'adams',\n",
       " 'adams nnp',\n",
       " 'adani',\n",
       " 'adani nnp',\n",
       " 'adani nnp pos',\n",
       " 'adani nnp vbz',\n",
       " 'adapt',\n",
       " 'adapt vb',\n",
       " 'adapt vb climate',\n",
       " 'adapt vbg',\n",
       " 'adapt vbg climate',\n",
       " 'adapt vbg trump',\n",
       " 'adapt vbn',\n",
       " 'adaptation',\n",
       " 'adaptation nn',\n",
       " 'adaptation nn cc',\n",
       " 'adaptation nn climate',\n",
       " 'adaptation nn org',\n",
       " 'adaptation nn web_url',\n",
       " 'add',\n",
       " 'add _sp',\n",
       " 'add cardinal',\n",
       " 'add climate',\n",
       " 'add climate nn',\n",
       " 'add date',\n",
       " 'add dt',\n",
       " 'add dt jj',\n",
       " 'add gpe',\n",
       " 'add gpe gpe',\n",
       " 'add https',\n",
       " 'add loc',\n",
       " 'add money',\n",
       " 'add nn',\n",
       " 'add norp',\n",
       " 'add org',\n",
       " 'add org cardinal',\n",
       " 'add org date',\n",
       " 'add org gpe',\n",
       " 'add org loc',\n",
       " 'add org money',\n",
       " 'add org norp',\n",
       " 'add org org',\n",
       " 'add org person',\n",
       " 'add person',\n",
       " 'add person org',\n",
       " 'add person person',\n",
       " 'add rb',\n",
       " 'add say',\n",
       " 'add say vbg',\n",
       " 'add scientist',\n",
       " 'add scientist nns',\n",
       " 'add time',\n",
       " 'add trump',\n",
       " 'add trump nnp',\n",
       " 'add trump vbz',\n",
       " 'add vb',\n",
       " 'add vb global',\n",
       " 'add vb pron',\n",
       " 'add vbd',\n",
       " 'add vbg',\n",
       " 'add vbp',\n",
       " 'add vbz',\n",
       " 'add web_url',\n",
       " 'add web_url nn',\n",
       " 'add web_url nnp',\n",
       " 'add wrb',\n",
       " 'add wrb vbp',\n",
       " 'address',\n",
       " 'address nn',\n",
       " 'address vb',\n",
       " 'address vb climate',\n",
       " 'address vb dt',\n",
       " 'address vbd',\n",
       " 'address vbg',\n",
       " 'address vbg climate',\n",
       " 'address vbg dt',\n",
       " 'address vbn',\n",
       " 'address vbp',\n",
       " 'address vbp climate',\n",
       " 'address vbp dt',\n",
       " 'address vbz',\n",
       " 'adequate',\n",
       " 'adequate jj',\n",
       " 'aditya',\n",
       " 'aditya nnp',\n",
       " 'aditya nnp nnp',\n",
       " 'adjust',\n",
       " 'adjust vb',\n",
       " 'adjust vb climate',\n",
       " 'adm',\n",
       " 'adm nnp',\n",
       " 'admin',\n",
       " 'admin nn',\n",
       " 'admin nn official',\n",
       " 'admin nn vbd',\n",
       " 'admin nn vbz',\n",
       " 'admin nnp',\n",
       " 'administration',\n",
       " 'administration nn',\n",
       " 'administration nn believe',\n",
       " 'administration nn climate',\n",
       " 'administration nn just',\n",
       " 'administration nn md',\n",
       " 'administration nn pos',\n",
       " 'administration nn vbz',\n",
       " 'administration nn web_url',\n",
       " 'administration nnp',\n",
       " 'administrator',\n",
       " 'administrator nn',\n",
       " 'administrator nn scott',\n",
       " 'administrator nnp',\n",
       " 'admission',\n",
       " 'admission nn',\n",
       " 'admit',\n",
       " 'admit vb',\n",
       " 'admit vb exxonknew',\n",
       " 'admit vbd',\n",
       " 'admit vbp',\n",
       " 'admit vbz',\n",
       " 'admit vbz climate',\n",
       " 'admit vbz scientist',\n",
       " 'adopt',\n",
       " 'adopt vb',\n",
       " 'adopt vbg',\n",
       " 'adriennelaf',\n",
       " 'adriennelaf add',\n",
       " 'adult',\n",
       " 'adult nn',\n",
       " 'adult nns',\n",
       " 'advance',\n",
       " 'advance vb',\n",
       " 'advance vb climate',\n",
       " 'adverse',\n",
       " 'adverse jj',\n",
       " 'adverse jj climate',\n",
       " 'advice',\n",
       " 'advice nn',\n",
       " 'advise',\n",
       " 'advise vbd',\n",
       " 'advise vbd president',\n",
       " 'adviser',\n",
       " 'adviser nn',\n",
       " 'adviser nn say',\n",
       " 'advisor',\n",
       " 'advisor nn',\n",
       " 'advisor nn vbz',\n",
       " 'advisor nns',\n",
       " 'advisory',\n",
       " 'advisory jj',\n",
       " 'advisory jj committee',\n",
       " 'advisory jj panel',\n",
       " 'advocacy',\n",
       " 'advocacy nn',\n",
       " 'advocate',\n",
       " 'advocate nn',\n",
       " 'advocate nns',\n",
       " 'advocate vbg',\n",
       " 'aerosol',\n",
       " 'aerosol nn',\n",
       " 'af',\n",
       " 'af nn',\n",
       " 'affair',\n",
       " 'affair nns',\n",
       " 'affect',\n",
       " 'affect nns',\n",
       " 'affect vb',\n",
       " 'affect vb dt',\n",
       " 'affect vb pron',\n",
       " 'affect vb sea',\n",
       " 'affect vbg',\n",
       " 'affect vbg pron',\n",
       " 'affect vbn',\n",
       " 'affect vbn climate',\n",
       " 'affect vbn dt',\n",
       " 'affect vbn global',\n",
       " 'affect vbp',\n",
       " 'affect vbz',\n",
       " 'affirm',\n",
       " 'afford',\n",
       " 'afford vb',\n",
       " 'affordability',\n",
       " 'affordability nn',\n",
       " 'affordability nn climate',\n",
       " 'affordable',\n",
       " 'affordable jj',\n",
       " 'afp',\n",
       " 'afp nnp',\n",
       " 'afraid',\n",
       " 'afraid jj',\n",
       " 'afraid jj vb',\n",
       " 'africa',\n",
       " 'africa nnp',\n",
       " 'africa nnp cc',\n",
       " 'africa nnp md',\n",
       " 'africa nnp need',\n",
       " 'africa nnp pos',\n",
       " 'africa nnp vbz',\n",
       " 'african',\n",
       " 'african jj',\n",
       " 'africans',\n",
       " 'africans nnps',\n",
       " 'africas',\n",
       " 'afternoon',\n",
       " 'afternoon nn',\n",
       " 'ag',\n",
       " 'ag nnp',\n",
       " 'ag nnp pos',\n",
       " 'ag nnp say',\n",
       " 'age',\n",
       " 'age nn',\n",
       " 'age nn cc',\n",
       " 'age nn climate',\n",
       " 'age nn org',\n",
       " 'age nn vbp',\n",
       " 'age nnp',\n",
       " 'age nns',\n",
       " 'agency',\n",
       " 'agency nn',\n",
       " 'agency nn delete',\n",
       " 'agency nn manipulate',\n",
       " 'agency nn pos',\n",
       " 'agency nn react',\n",
       " 'agency nnp',\n",
       " 'agency nns',\n",
       " 'agency nns vbp',\n",
       " 'agency nns wdt',\n",
       " 'agenda',\n",
       " 'agenda nn',\n",
       " 'agenda nn _sp',\n",
       " 'agenda nn dt',\n",
       " 'agenda nn immensely',\n",
       " 'agenda nn nn',\n",
       " 'agenda nn rb',\n",
       " 'agenda nn vbz',\n",
       " 'agenda nn web_url',\n",
       " 'agent',\n",
       " 'aggressive',\n",
       " 'aggressive jj',\n",
       " 'aggressive jj action',\n",
       " 'aggressively',\n",
       " 'aggressively rb',\n",
       " 'ago',\n",
       " 'ago rb',\n",
       " 'ago rb cc',\n",
       " 'ago rb dt',\n",
       " 'ago rb org',\n",
       " 'ago rb vbd',\n",
       " 'ago rb web_url',\n",
       " 'agree',\n",
       " 'agree vb',\n",
       " 'agree vb _sp',\n",
       " 'agree vb climate',\n",
       " 'agree vb dt',\n",
       " 'agree vb fox',\n",
       " 'agree vbd',\n",
       " 'agree vbn',\n",
       " 'agree vbp',\n",
       " 'agree vbp _sp',\n",
       " 'agree vbp climate',\n",
       " 'agree vbz',\n",
       " 'agreement',\n",
       " 'agreement nn',\n",
       " 'agreement nn _sp',\n",
       " 'agreement nn cc',\n",
       " 'agreement nn climate',\n",
       " 'agreement nn design',\n",
       " 'agreement nn enter',\n",
       " 'agreement nn nnp',\n",
       " 'agreement nn vbz',\n",
       " 'agreement nn web_url',\n",
       " 'agreement nnp',\n",
       " 'agreement nnp climate',\n",
       " 'agreement nnp fight',\n",
       " 'agreement nnp rb',\n",
       " 'agreement nnp vbz',\n",
       " 'agreement nnp world',\n",
       " 'agreement nns',\n",
       " 'agriculture',\n",
       " 'agriculture nn',\n",
       " 'agriculture nn demand',\n",
       " 'agriculture nn vbz',\n",
       " 'agriculture nn victim',\n",
       " 'agriculture nn web_url',\n",
       " 'agriculture nnp',\n",
       " 'agw',\n",
       " 'agw nnp',\n",
       " 'ah',\n",
       " 'ah uh',\n",
       " 'ah uh yes',\n",
       " 'ahead',\n",
       " 'ahead rb',\n",
       " 'ahead rb climate',\n",
       " 'ahead rb climatemarch',\n",
       " 'ahead rb dt',\n",
       " 'ahead rb obama',\n",
       " 'ahead rb president',\n",
       " 'ahead rb rb',\n",
       " 'ai',\n",
       " 'ai nnp',\n",
       " 'aiannucci',\n",
       " 'aiannucci nnp',\n",
       " 'aiannucci nnp dt',\n",
       " 'aid',\n",
       " 'aid nn',\n",
       " 'aid nn waste',\n",
       " 'aide',\n",
       " 'aide nns',\n",
       " 'aim',\n",
       " 'aim nn',\n",
       " 'aim vbn',\n",
       " 'aim vbz',\n",
       " 'air',\n",
       " 'air nn',\n",
       " 'air nn breathe',\n",
       " 'air nn cc',\n",
       " 'air nn conditioner',\n",
       " 'air nn conditioning',\n",
       " 'air nn pollution',\n",
       " 'air nn quality',\n",
       " 'air nn travel',\n",
       " 'air nn water',\n",
       " 'air nn web_url',\n",
       " 'air nnp',\n",
       " 'aisneed',\n",
       " 'aitruthfilm',\n",
       " 'ajenglish',\n",
       " 'ajenglish cc',\n",
       " 'ajenglish cc dt',\n",
       " 'ajenglish cd',\n",
       " 'ajenglish nn',\n",
       " 'ajplus',\n",
       " 'ajplus fw',\n",
       " 'ajplus fw diplomat',\n",
       " 'ajplus nnp',\n",
       " 'ajplus nnp leo',\n",
       " 'ajplus nnp vbz',\n",
       " 'aka',\n",
       " 'aka rb',\n",
       " 'aka rb global',\n",
       " 'al',\n",
       " 'al nnp',\n",
       " 'al nnp franken',\n",
       " 'al nnp gore',\n",
       " 'al nnp gores',\n",
       " 'al nnp org',\n",
       " 'alarm',\n",
       " 'alarm nn',\n",
       " 'alarm nn climate',\n",
       " 'alarm vbz',\n",
       " 'alarm vbz energy',\n",
       " 'alarming',\n",
       " 'alarming jj',\n",
       " 'alarming jj rate',\n",
       " 'alarmism',\n",
       " 'alarmism nn',\n",
       " 'alarmism nn web_url',\n",
       " 'alarmist',\n",
       " 'alarmist jj',\n",
       " 'alarmist nns',\n",
       " 'alaska',\n",
       " 'alaska nnp',\n",
       " 'alaska nnp pos',\n",
       " 'alaskan',\n",
       " 'alaskan jj',\n",
       " 'alberta',\n",
       " 'alberta nnp',\n",
       " 'album',\n",
       " 'alert',\n",
       " 'alert nn',\n",
       " 'alex_verbeek',\n",
       " 'alex_verbeek xx',\n",
       " 'alex_verbeek xx _sp',\n",
       " 'alexsteffen',\n",
       " 'alexsteffen nn',\n",
       " 'alfranken',\n",
       " 'alfranken nnp',\n",
       " 'algae',\n",
       " 'algae nn',\n",
       " 'algae nn bloom',\n",
       " 'algal',\n",
       " 'algore',\n",
       " 'algore nn',\n",
       " 'algore nnp',\n",
       " 'alias',\n",
       " 'alias nn',\n",
       " 'alias nn communicate',\n",
       " 'alias nn email',\n",
       " 'alias nn exxon',\n",
       " 'alias nn use',\n",
       " 'alias nn wayne',\n",
       " 'alias nnp',\n",
       " 'alias nnp email',\n",
       " 'alicebell',\n",
       " 'alien',\n",
       " 'alien nns',\n",
       " 'align',\n",
       " 'align vbz',\n",
       " 'align vbz trump',\n",
       " 'alive',\n",
       " 'alive jj',\n",
       " 'allegation',\n",
       " 'allege',\n",
       " ...]"
      ]
     },
     "execution_count": 15,
     "metadata": {},
     "output_type": "execute_result"
    }
   ],
   "source": [
    "list(vect.get_feature_names())"
   ]
  },
  {
   "cell_type": "code",
   "execution_count": 16,
   "metadata": {
    "ExecuteTime": {
     "end_time": "2020-10-18T03:39:15.564882Z",
     "start_time": "2020-10-18T03:39:15.155027Z"
    }
   },
   "outputs": [],
   "source": [
    "X = X_count.toarray()"
   ]
  },
  {
   "cell_type": "code",
   "execution_count": 17,
   "metadata": {
    "ExecuteTime": {
     "end_time": "2020-10-18T03:39:15.570741Z",
     "start_time": "2020-10-18T03:39:15.566751Z"
    }
   },
   "outputs": [],
   "source": [
    "y=np.array(data['sentiment'])"
   ]
  },
  {
   "cell_type": "markdown",
   "metadata": {},
   "source": [
    "## Sort out imbalance"
   ]
  },
  {
   "cell_type": "code",
   "execution_count": 18,
   "metadata": {
    "ExecuteTime": {
     "end_time": "2020-10-18T04:04:03.496898Z",
     "start_time": "2020-10-18T03:39:15.571739Z"
    }
   },
   "outputs": [],
   "source": [
    "sm = SMOTE(random_state=9)\n",
    "x_res, y__res = sm.fit_resample(X, y)\n"
   ]
  },
  {
   "cell_type": "markdown",
   "metadata": {},
   "source": [
    "## Split into train and test"
   ]
  },
  {
   "cell_type": "code",
   "execution_count": 19,
   "metadata": {
    "ExecuteTime": {
     "end_time": "2020-10-18T04:04:28.008019Z",
     "start_time": "2020-10-18T04:04:03.511829Z"
    }
   },
   "outputs": [],
   "source": [
    "X_train, X_test, y_train, y_test = train_test_split(x_res, y__res, test_size=0.001, random_state=9,shuffle=True)\n",
    "x_train_res, y_train_res =X_train, y_train"
   ]
  },
  {
   "cell_type": "code",
   "execution_count": 20,
   "metadata": {
    "ExecuteTime": {
     "end_time": "2020-10-18T04:04:28.052140Z",
     "start_time": "2020-10-18T04:04:28.025292Z"
    }
   },
   "outputs": [],
   "source": [
    "import collections"
   ]
  },
  {
   "cell_type": "code",
   "execution_count": 21,
   "metadata": {
    "ExecuteTime": {
     "end_time": "2020-10-18T04:04:28.301160Z",
     "start_time": "2020-10-18T04:04:28.055132Z"
    }
   },
   "outputs": [
    {
     "data": {
      "text/plain": [
       "Counter({1: 8523, 2: 8518, 0: 8518, -1: 8526})"
      ]
     },
     "execution_count": 21,
     "metadata": {},
     "output_type": "execute_result"
    }
   ],
   "source": [
    "collections.Counter(y_train_res)"
   ]
  },
  {
   "cell_type": "markdown",
   "metadata": {},
   "source": [
    "# Build Model"
   ]
  },
  {
   "cell_type": "markdown",
   "metadata": {},
   "source": [
    "## Logistic regression"
   ]
  },
  {
   "cell_type": "code",
   "execution_count": null,
   "metadata": {
    "ExecuteTime": {
     "end_time": "2020-10-17T19:49:05.340425Z",
     "start_time": "2020-10-17T19:47:30.611Z"
    }
   },
   "outputs": [],
   "source": [
    "logreg=LogisticRegression(C=0.99, solver='liblinear', verbose=1, multi_class='ovr')"
   ]
  },
  {
   "cell_type": "code",
   "execution_count": null,
   "metadata": {
    "ExecuteTime": {
     "end_time": "2020-10-17T19:49:05.341423Z",
     "start_time": "2020-10-17T19:47:31.954Z"
    }
   },
   "outputs": [],
   "source": [
    "logreg.fit(x_train_res, y_train_res)"
   ]
  },
  {
   "cell_type": "code",
   "execution_count": null,
   "metadata": {
    "ExecuteTime": {
     "end_time": "2020-10-17T19:49:05.343417Z",
     "start_time": "2020-10-17T19:47:33.910Z"
    }
   },
   "outputs": [],
   "source": [
    "y_pred_logreg = logreg.predict(X_test)"
   ]
  },
  {
   "cell_type": "code",
   "execution_count": null,
   "metadata": {
    "ExecuteTime": {
     "end_time": "2020-10-17T19:49:05.344414Z",
     "start_time": "2020-10-17T19:47:35.403Z"
    }
   },
   "outputs": [],
   "source": [
    "print(classification_report(y_test, y_pred_logreg))"
   ]
  },
  {
   "cell_type": "markdown",
   "metadata": {},
   "source": [
    "## GaussianNB"
   ]
  },
  {
   "cell_type": "code",
   "execution_count": null,
   "metadata": {
    "ExecuteTime": {
     "end_time": "2020-10-16T13:26:02.939756Z",
     "start_time": "2020-10-16T13:26:02.935767Z"
    }
   },
   "outputs": [],
   "source": [
    "#naive_bayes = GaussianNB()"
   ]
  },
  {
   "cell_type": "code",
   "execution_count": null,
   "metadata": {
    "ExecuteTime": {
     "end_time": "2020-10-16T13:26:02.966685Z",
     "start_time": "2020-10-16T13:26:02.962695Z"
    }
   },
   "outputs": [],
   "source": [
    "#naive_bayes.fit(x_train_res, y_train_res)"
   ]
  },
  {
   "cell_type": "code",
   "execution_count": null,
   "metadata": {
    "ExecuteTime": {
     "end_time": "2020-10-16T13:26:02.988626Z",
     "start_time": "2020-10-16T13:26:02.970674Z"
    }
   },
   "outputs": [],
   "source": [
    "#naive_bayes.fit(x_train_res, y_train_res)"
   ]
  },
  {
   "cell_type": "code",
   "execution_count": null,
   "metadata": {
    "ExecuteTime": {
     "end_time": "2020-10-16T13:26:03.008574Z",
     "start_time": "2020-10-16T13:26:02.992616Z"
    }
   },
   "outputs": [],
   "source": [
    "#y_pred_nb = naive_bayes.predict(X_test)"
   ]
  },
  {
   "cell_type": "code",
   "execution_count": null,
   "metadata": {
    "ExecuteTime": {
     "end_time": "2020-10-16T13:26:03.027523Z",
     "start_time": "2020-10-16T13:26:03.012563Z"
    }
   },
   "outputs": [],
   "source": [
    "#print(classification_report(y_test, y_pred_nb))"
   ]
  },
  {
   "cell_type": "markdown",
   "metadata": {},
   "source": [
    "## MultinomialNB"
   ]
  },
  {
   "cell_type": "code",
   "execution_count": null,
   "metadata": {
    "ExecuteTime": {
     "end_time": "2020-10-16T15:20:14.339732Z",
     "start_time": "2020-10-16T15:20:14.332730Z"
    }
   },
   "outputs": [],
   "source": [
    "MNB=MultinomialNB()"
   ]
  },
  {
   "cell_type": "code",
   "execution_count": null,
   "metadata": {
    "ExecuteTime": {
     "end_time": "2020-10-16T15:20:16.963852Z",
     "start_time": "2020-10-16T15:20:15.532215Z"
    }
   },
   "outputs": [],
   "source": [
    "MNB.fit(x_train_res, y_train_res)"
   ]
  },
  {
   "cell_type": "code",
   "execution_count": null,
   "metadata": {
    "ExecuteTime": {
     "end_time": "2020-10-16T15:20:18.353162Z",
     "start_time": "2020-10-16T15:20:16.965847Z"
    }
   },
   "outputs": [],
   "source": [
    "MNB.fit(x_train_res, y_train_res)"
   ]
  },
  {
   "cell_type": "code",
   "execution_count": null,
   "metadata": {
    "ExecuteTime": {
     "end_time": "2020-10-16T15:20:18.485809Z",
     "start_time": "2020-10-16T15:20:18.355157Z"
    }
   },
   "outputs": [],
   "source": [
    "y_pred_MNB = MNB.predict(X_test)"
   ]
  },
  {
   "cell_type": "code",
   "execution_count": null,
   "metadata": {
    "ExecuteTime": {
     "end_time": "2020-10-16T15:20:20.117107Z",
     "start_time": "2020-10-16T15:20:20.105139Z"
    }
   },
   "outputs": [],
   "source": [
    "print(classification_report(y_test, y_pred_MNB))"
   ]
  },
  {
   "cell_type": "markdown",
   "metadata": {},
   "source": [
    "## KNN"
   ]
  },
  {
   "cell_type": "code",
   "execution_count": null,
   "metadata": {
    "ExecuteTime": {
     "end_time": "2020-10-16T13:26:06.098353Z",
     "start_time": "2020-10-16T13:26:06.094362Z"
    }
   },
   "outputs": [],
   "source": [
    "#n_neighbors = 3"
   ]
  },
  {
   "cell_type": "code",
   "execution_count": null,
   "metadata": {
    "ExecuteTime": {
     "end_time": "2020-10-16T13:26:06.115307Z",
     "start_time": "2020-10-16T13:26:06.101344Z"
    }
   },
   "outputs": [],
   "source": [
    "#knn = KNeighborsClassifier(n_neighbors)"
   ]
  },
  {
   "cell_type": "code",
   "execution_count": null,
   "metadata": {
    "ExecuteTime": {
     "end_time": "2020-10-16T13:26:06.131264Z",
     "start_time": "2020-10-16T13:26:06.117301Z"
    }
   },
   "outputs": [],
   "source": [
    "#knn.fit(x_train_res, y_train_res)"
   ]
  },
  {
   "cell_type": "code",
   "execution_count": null,
   "metadata": {
    "ExecuteTime": {
     "end_time": "2020-10-16T13:26:06.148218Z",
     "start_time": "2020-10-16T13:26:06.133259Z"
    }
   },
   "outputs": [],
   "source": [
    "#y_pred_knn = knn.predict(X_test)"
   ]
  },
  {
   "cell_type": "code",
   "execution_count": null,
   "metadata": {
    "ExecuteTime": {
     "end_time": "2020-10-16T13:26:06.164176Z",
     "start_time": "2020-10-16T13:26:06.151212Z"
    }
   },
   "outputs": [],
   "source": [
    "#print(classification_report(y_test, y_pred_knn))"
   ]
  },
  {
   "cell_type": "markdown",
   "metadata": {},
   "source": [
    "## Support Vector Classification"
   ]
  },
  {
   "cell_type": "code",
   "execution_count": null,
   "metadata": {
    "ExecuteTime": {
     "end_time": "2020-10-17T20:59:42.516103Z",
     "start_time": "2020-10-17T20:59:42.500631Z"
    }
   },
   "outputs": [],
   "source": [
    "svc_mod=SVC(kernel='rbf')"
   ]
  },
  {
   "cell_type": "code",
   "execution_count": null,
   "metadata": {
    "ExecuteTime": {
     "start_time": "2020-10-17T21:00:13.623Z"
    }
   },
   "outputs": [],
   "source": [
    "svc_mod.fit(x_train_res, y_train_res)\n",
    "y_pred_svc = svc_mod.predict(X_test)"
   ]
  },
  {
   "cell_type": "code",
   "execution_count": null,
   "metadata": {
    "ExecuteTime": {
     "start_time": "2020-10-17T21:02:15.677Z"
    }
   },
   "outputs": [],
   "source": [
    "print(classification_report(y_test, y_pred_svc))"
   ]
  },
  {
   "cell_type": "markdown",
   "metadata": {},
   "source": [
    "## Decision Tree"
   ]
  },
  {
   "cell_type": "code",
   "execution_count": null,
   "metadata": {
    "ExecuteTime": {
     "end_time": "2020-10-16T13:26:06.223137Z",
     "start_time": "2020-10-16T13:26:06.210173Z"
    }
   },
   "outputs": [],
   "source": [
    "#tree = DecisionTreeClassifier(random_state=42)"
   ]
  },
  {
   "cell_type": "code",
   "execution_count": null,
   "metadata": {
    "ExecuteTime": {
     "end_time": "2020-10-16T13:26:06.238097Z",
     "start_time": "2020-10-16T13:26:06.226129Z"
    }
   },
   "outputs": [],
   "source": [
    "#tree.fit(x_train_res, y_train_res)"
   ]
  },
  {
   "cell_type": "code",
   "execution_count": null,
   "metadata": {
    "ExecuteTime": {
     "end_time": "2020-10-16T13:26:06.254054Z",
     "start_time": "2020-10-16T13:26:06.241090Z"
    }
   },
   "outputs": [],
   "source": [
    "#y_pred_tree = tree.predict(X_test)"
   ]
  },
  {
   "cell_type": "code",
   "execution_count": null,
   "metadata": {
    "ExecuteTime": {
     "end_time": "2020-10-16T13:26:06.276995Z",
     "start_time": "2020-10-16T13:26:06.257048Z"
    }
   },
   "outputs": [],
   "source": [
    "#print(classification_report(y_test, y_pred_tree))"
   ]
  },
  {
   "cell_type": "markdown",
   "metadata": {
    "ExecuteTime": {
     "end_time": "2020-10-16T05:47:01.377615Z",
     "start_time": "2020-10-16T05:47:01.374608Z"
    }
   },
   "source": [
    "## RandomForestClassifier"
   ]
  },
  {
   "cell_type": "code",
   "execution_count": null,
   "metadata": {
    "ExecuteTime": {
     "end_time": "2020-10-16T13:26:06.295944Z",
     "start_time": "2020-10-16T13:26:06.279986Z"
    }
   },
   "outputs": [],
   "source": [
    "#forest = RandomForestClassifier(n_estimators=10000, random_state=42)\n",
    "#forest.fit(x_train_res, y_train_res)"
   ]
  },
  {
   "cell_type": "code",
   "execution_count": null,
   "metadata": {
    "ExecuteTime": {
     "end_time": "2020-10-16T13:26:06.313896Z",
     "start_time": "2020-10-16T13:26:06.298937Z"
    }
   },
   "outputs": [],
   "source": [
    "#y_pred_forest = forest.predict(X_test)"
   ]
  },
  {
   "cell_type": "code",
   "execution_count": null,
   "metadata": {
    "ExecuteTime": {
     "end_time": "2020-10-16T13:26:06.330853Z",
     "start_time": "2020-10-16T13:26:06.316888Z"
    }
   },
   "outputs": [],
   "source": [
    "#print(classification_report(y_test, y_pred_forest))"
   ]
  },
  {
   "cell_type": "markdown",
   "metadata": {},
   "source": [
    "## AdaBoostClassifier"
   ]
  },
  {
   "cell_type": "code",
   "execution_count": null,
   "metadata": {
    "ExecuteTime": {
     "end_time": "2020-10-16T13:26:06.351796Z",
     "start_time": "2020-10-16T13:26:06.334840Z"
    }
   },
   "outputs": [],
   "source": [
    "#ada=AdaBoostClassifier( n_estimators=10000, random_state=42)"
   ]
  },
  {
   "cell_type": "code",
   "execution_count": null,
   "metadata": {
    "ExecuteTime": {
     "end_time": "2020-10-16T13:26:06.366755Z",
     "start_time": "2020-10-16T13:26:06.354787Z"
    }
   },
   "outputs": [],
   "source": [
    "#ada.fit(x_train_res, y_train_res)"
   ]
  },
  {
   "cell_type": "code",
   "execution_count": null,
   "metadata": {
    "ExecuteTime": {
     "end_time": "2020-10-16T13:26:06.388697Z",
     "start_time": "2020-10-16T13:26:06.370745Z"
    }
   },
   "outputs": [],
   "source": [
    "#y_pred_ada = ada.predict(X_test)"
   ]
  },
  {
   "cell_type": "code",
   "execution_count": null,
   "metadata": {
    "ExecuteTime": {
     "end_time": "2020-10-16T13:26:06.404654Z",
     "start_time": "2020-10-16T13:26:06.392687Z"
    },
    "scrolled": true
   },
   "outputs": [],
   "source": [
    "#print(classification_report(y_test, y_pred_ada))"
   ]
  },
  {
   "cell_type": "markdown",
   "metadata": {
    "ExecuteTime": {
     "end_time": "2020-10-16T05:55:56.790704Z",
     "start_time": "2020-10-16T05:55:56.775742Z"
    }
   },
   "source": [
    "## XGBoost"
   ]
  },
  {
   "cell_type": "code",
   "execution_count": null,
   "metadata": {
    "ExecuteTime": {
     "end_time": "2020-10-16T13:26:06.424602Z",
     "start_time": "2020-10-16T13:26:06.407647Z"
    }
   },
   "outputs": [],
   "source": [
    "#XG=XGBClassifier()"
   ]
  },
  {
   "cell_type": "code",
   "execution_count": null,
   "metadata": {
    "ExecuteTime": {
     "end_time": "2020-10-16T13:26:06.441557Z",
     "start_time": "2020-10-16T13:26:06.428591Z"
    }
   },
   "outputs": [],
   "source": [
    "#XG.fit(x_train_res, y_train_res)"
   ]
  },
  {
   "cell_type": "code",
   "execution_count": null,
   "metadata": {
    "ExecuteTime": {
     "end_time": "2020-10-16T13:26:06.456516Z",
     "start_time": "2020-10-16T13:26:06.444548Z"
    }
   },
   "outputs": [],
   "source": [
    "#y_pred_XG = ada.predict(X_test)"
   ]
  },
  {
   "cell_type": "code",
   "execution_count": null,
   "metadata": {
    "ExecuteTime": {
     "end_time": "2020-10-16T13:26:06.479457Z",
     "start_time": "2020-10-16T13:26:06.459509Z"
    }
   },
   "outputs": [],
   "source": [
    "#print(classification_report(y_test, y_pred_XG))"
   ]
  },
  {
   "cell_type": "markdown",
   "metadata": {},
   "source": [
    "## Catboost"
   ]
  },
  {
   "cell_type": "code",
   "execution_count": null,
   "metadata": {
    "ExecuteTime": {
     "end_time": "2020-10-17T17:15:18.532619Z",
     "start_time": "2020-10-17T17:15:18.528621Z"
    }
   },
   "outputs": [],
   "source": [
    "catboost_mod = CatBoostClassifier(iterations=4000,learning_rate=1, random_state=9, eval_metric='TotalF1')"
   ]
  },
  {
   "cell_type": "code",
   "execution_count": null,
   "metadata": {
    "ExecuteTime": {
     "end_time": "2020-10-17T18:59:26.057697Z",
     "start_time": "2020-10-17T17:15:20.925156Z"
    }
   },
   "outputs": [],
   "source": [
    "catboost_mod.fit(x_train_res, y_train_res)"
   ]
  },
  {
   "cell_type": "code",
   "execution_count": null,
   "metadata": {
    "ExecuteTime": {
     "end_time": "2020-10-17T19:23:50.394944Z",
     "start_time": "2020-10-17T19:23:48.928797Z"
    }
   },
   "outputs": [],
   "source": [
    "y_pred_catboost = catboost_mod.predict(X_test)"
   ]
  },
  {
   "cell_type": "code",
   "execution_count": null,
   "metadata": {
    "ExecuteTime": {
     "end_time": "2020-10-17T19:23:51.523132Z",
     "start_time": "2020-10-17T19:23:51.494321Z"
    }
   },
   "outputs": [],
   "source": [
    "print(classification_report(y_test, y_pred_catboost))"
   ]
  },
  {
   "cell_type": "markdown",
   "metadata": {},
   "source": [
    "## Linear SVC"
   ]
  },
  {
   "cell_type": "code",
   "execution_count": null,
   "metadata": {
    "ExecuteTime": {
     "end_time": "2020-10-17T20:55:39.354269Z",
     "start_time": "2020-10-17T20:55:10.422691Z"
    }
   },
   "outputs": [],
   "source": [
    "lsvc = LinearSVC(penalty='l2',max_iter=100000)\n",
    "lsvc.fit(x_train_res, y_train_res)\n",
    "lsvc_pred = lsvc.predict(X_test)"
   ]
  },
  {
   "cell_type": "code",
   "execution_count": null,
   "metadata": {
    "ExecuteTime": {
     "end_time": "2020-10-17T20:55:39.412115Z",
     "start_time": "2020-10-17T20:55:39.363254Z"
    }
   },
   "outputs": [],
   "source": [
    "print(classification_report(y_test, lsvc_pred))"
   ]
  },
  {
   "cell_type": "code",
   "execution_count": null,
   "metadata": {},
   "outputs": [],
   "source": []
  },
  {
   "cell_type": "markdown",
   "metadata": {},
   "source": [
    "## Import test set-catboost"
   ]
  },
  {
   "cell_type": "code",
   "execution_count": null,
   "metadata": {
    "ExecuteTime": {
     "end_time": "2020-10-17T19:23:57.595818Z",
     "start_time": "2020-10-17T19:23:57.468201Z"
    }
   },
   "outputs": [],
   "source": [
    "test_data=pd.read_csv(r'C:\\Users\\SwartP\\OneDrive - Platinum Life (Proprietary) Limited\\Documents\\Data Science\\Explore Data Science\\Sprint 6-Classification\\Predict\\climate-change-edsa2020-21\\test.csv')"
   ]
  },
  {
   "cell_type": "code",
   "execution_count": null,
   "metadata": {
    "ExecuteTime": {
     "end_time": "2020-10-17T19:25:42.058758Z",
     "start_time": "2020-10-17T19:24:18.624071Z"
    }
   },
   "outputs": [],
   "source": [
    "test_data['format_message']=test_data['message'].apply(lambda x:add_pos(x))"
   ]
  },
  {
   "cell_type": "code",
   "execution_count": null,
   "metadata": {
    "ExecuteTime": {
     "end_time": "2020-10-17T19:25:42.715733Z",
     "start_time": "2020-10-17T19:25:42.060583Z"
    }
   },
   "outputs": [],
   "source": [
    "x_vect=vect.transform(test_data['format_message'])"
   ]
  },
  {
   "cell_type": "code",
   "execution_count": null,
   "metadata": {
    "ExecuteTime": {
     "end_time": "2020-10-17T19:25:43.022192Z",
     "start_time": "2020-10-17T19:25:42.715733Z"
    }
   },
   "outputs": [],
   "source": [
    "X_new = x_vect.toarray()"
   ]
  },
  {
   "cell_type": "code",
   "execution_count": null,
   "metadata": {
    "ExecuteTime": {
     "end_time": "2020-10-17T19:26:25.585126Z",
     "start_time": "2020-10-17T19:25:43.023181Z"
    }
   },
   "outputs": [],
   "source": [
    "y_pred_fin = catboost_mod.predict(X_new)"
   ]
  },
  {
   "cell_type": "code",
   "execution_count": null,
   "metadata": {
    "ExecuteTime": {
     "end_time": "2020-10-17T19:26:25.594403Z",
     "start_time": "2020-10-17T19:26:25.585126Z"
    }
   },
   "outputs": [],
   "source": [
    "test_data['sentiment']=y_pred_fin"
   ]
  },
  {
   "cell_type": "code",
   "execution_count": null,
   "metadata": {
    "ExecuteTime": {
     "end_time": "2020-10-17T19:26:25.654699Z",
     "start_time": "2020-10-17T19:26:25.596399Z"
    }
   },
   "outputs": [],
   "source": [
    "test_data[['tweetid','sentiment']].to_csv('submission_1_5_catboost_nrange2_pos.csv', index=False)"
   ]
  },
  {
   "cell_type": "code",
   "execution_count": null,
   "metadata": {},
   "outputs": [],
   "source": []
  },
  {
   "cell_type": "code",
   "execution_count": null,
   "metadata": {},
   "outputs": [],
   "source": []
  },
  {
   "cell_type": "markdown",
   "metadata": {},
   "source": [
    "## Import test set-logreg"
   ]
  },
  {
   "cell_type": "code",
   "execution_count": null,
   "metadata": {
    "ExecuteTime": {
     "end_time": "2020-10-16T17:04:29.349529Z",
     "start_time": "2020-10-16T17:04:29.228132Z"
    }
   },
   "outputs": [],
   "source": [
    "test_data=pd.read_csv(r'C:\\Users\\SwartP\\OneDrive - Platinum Life (Proprietary) Limited\\Documents\\Data Science\\Explore Data Science\\Sprint 6-Classification\\Predict\\climate-change-edsa2020-21\\test.csv')"
   ]
  },
  {
   "cell_type": "code",
   "execution_count": null,
   "metadata": {
    "ExecuteTime": {
     "end_time": "2020-10-16T13:03:20.787152Z",
     "start_time": "2020-10-16T13:03:17.791193Z"
    }
   },
   "outputs": [],
   "source": [
    "test_data['format_message']=test_data['message'].apply(lambda x:add_pos(x))"
   ]
  },
  {
   "cell_type": "code",
   "execution_count": null,
   "metadata": {
    "ExecuteTime": {
     "end_time": "2020-10-16T13:03:21.125263Z",
     "start_time": "2020-10-16T13:03:20.908829Z"
    }
   },
   "outputs": [],
   "source": [
    "x_vect=vect.transform(test_data['format_message'])"
   ]
  },
  {
   "cell_type": "code",
   "execution_count": null,
   "metadata": {
    "ExecuteTime": {
     "end_time": "2020-10-16T13:03:23.980670Z",
     "start_time": "2020-10-16T13:03:23.577747Z"
    }
   },
   "outputs": [],
   "source": [
    "X_new = x_vect.toarray()"
   ]
  },
  {
   "cell_type": "code",
   "execution_count": null,
   "metadata": {
    "ExecuteTime": {
     "end_time": "2020-10-16T13:03:26.477995Z",
     "start_time": "2020-10-16T13:03:24.995956Z"
    }
   },
   "outputs": [],
   "source": [
    "y_pred_fin = logreg.predict(X_new)"
   ]
  },
  {
   "cell_type": "code",
   "execution_count": null,
   "metadata": {
    "ExecuteTime": {
     "end_time": "2020-10-16T13:03:26.814099Z",
     "start_time": "2020-10-16T13:03:26.808114Z"
    }
   },
   "outputs": [],
   "source": [
    "test_data['sentiment']=y_pred_fin"
   ]
  },
  {
   "cell_type": "code",
   "execution_count": null,
   "metadata": {
    "ExecuteTime": {
     "end_time": "2020-10-16T13:03:29.305821Z",
     "start_time": "2020-10-16T13:03:29.204094Z"
    }
   },
   "outputs": [],
   "source": [
    "test_data[['tweetid','sentiment']].to_csv('submission_1_1_logreg_nrange2.csv', index=False)"
   ]
  },
  {
   "cell_type": "markdown",
   "metadata": {},
   "source": [
    "## Import test set-lsvc"
   ]
  },
  {
   "cell_type": "code",
   "execution_count": null,
   "metadata": {
    "ExecuteTime": {
     "end_time": "2020-10-17T20:56:02.060317Z",
     "start_time": "2020-10-17T20:56:01.855021Z"
    }
   },
   "outputs": [],
   "source": [
    "test_data=pd.read_csv(r'C:\\Users\\SwartP\\OneDrive - Platinum Life (Proprietary) Limited\\Documents\\Data Science\\Explore Data Science\\Sprint 6-Classification\\Predict\\climate-change-edsa2020-21\\test.csv')"
   ]
  },
  {
   "cell_type": "code",
   "execution_count": null,
   "metadata": {
    "ExecuteTime": {
     "end_time": "2020-10-17T20:57:44.410492Z",
     "start_time": "2020-10-17T20:56:03.307752Z"
    }
   },
   "outputs": [],
   "source": [
    "test_data['format_message']=test_data['message'].apply(lambda x:add_pos(x))"
   ]
  },
  {
   "cell_type": "code",
   "execution_count": null,
   "metadata": {
    "ExecuteTime": {
     "end_time": "2020-10-17T20:57:45.202718Z",
     "start_time": "2020-10-17T20:57:44.411481Z"
    }
   },
   "outputs": [],
   "source": [
    "x_vect=vect.transform(test_data['format_message'])"
   ]
  },
  {
   "cell_type": "code",
   "execution_count": null,
   "metadata": {
    "ExecuteTime": {
     "end_time": "2020-10-17T20:57:53.173775Z",
     "start_time": "2020-10-17T20:57:45.206638Z"
    }
   },
   "outputs": [],
   "source": [
    "X_new = x_vect.toarray()"
   ]
  },
  {
   "cell_type": "code",
   "execution_count": null,
   "metadata": {
    "ExecuteTime": {
     "end_time": "2020-10-17T20:58:00.936447Z",
     "start_time": "2020-10-17T20:57:53.174735Z"
    }
   },
   "outputs": [],
   "source": [
    "y_pred_fin = lsvc.predict(X_new)"
   ]
  },
  {
   "cell_type": "code",
   "execution_count": null,
   "metadata": {
    "ExecuteTime": {
     "end_time": "2020-10-17T20:58:01.007257Z",
     "start_time": "2020-10-17T20:58:00.949411Z"
    }
   },
   "outputs": [],
   "source": [
    "test_data['sentiment']=y_pred_fin"
   ]
  },
  {
   "cell_type": "code",
   "execution_count": null,
   "metadata": {
    "ExecuteTime": {
     "end_time": "2020-10-17T20:58:01.234677Z",
     "start_time": "2020-10-17T20:58:01.010249Z"
    }
   },
   "outputs": [],
   "source": [
    "test_data[['tweetid','sentiment']].to_csv('submission_1_6_lsvc_nrange3_pos.csv', index=False)"
   ]
  },
  {
   "cell_type": "code",
   "execution_count": null,
   "metadata": {},
   "outputs": [],
   "source": []
  },
  {
   "cell_type": "markdown",
   "metadata": {},
   "source": [
    "## Import test set-svc"
   ]
  },
  {
   "cell_type": "code",
   "execution_count": null,
   "metadata": {
    "ExecuteTime": {
     "start_time": "2020-10-17T21:02:45.695Z"
    }
   },
   "outputs": [],
   "source": [
    "test_data=pd.read_csv(r'C:\\Users\\SwartP\\OneDrive - Platinum Life (Proprietary) Limited\\Documents\\Data Science\\Explore Data Science\\Sprint 6-Classification\\Predict\\climate-change-edsa2020-21\\test.csv')"
   ]
  },
  {
   "cell_type": "code",
   "execution_count": null,
   "metadata": {
    "ExecuteTime": {
     "start_time": "2020-10-17T21:02:48.923Z"
    }
   },
   "outputs": [],
   "source": [
    "test_data['format_message']=test_data['message'].apply(lambda x:add_pos(x))"
   ]
  },
  {
   "cell_type": "code",
   "execution_count": null,
   "metadata": {
    "ExecuteTime": {
     "start_time": "2020-10-17T21:02:52.558Z"
    }
   },
   "outputs": [],
   "source": [
    "x_vect=vect.transform(test_data['format_message'])"
   ]
  },
  {
   "cell_type": "code",
   "execution_count": null,
   "metadata": {
    "ExecuteTime": {
     "start_time": "2020-10-17T21:02:55.263Z"
    }
   },
   "outputs": [],
   "source": [
    "X_new = x_vect.toarray()"
   ]
  },
  {
   "cell_type": "code",
   "execution_count": null,
   "metadata": {
    "ExecuteTime": {
     "start_time": "2020-10-17T21:03:20.923Z"
    }
   },
   "outputs": [],
   "source": [
    "y_pred_fin = svc_mod.predict(X_new)"
   ]
  },
  {
   "cell_type": "code",
   "execution_count": null,
   "metadata": {
    "ExecuteTime": {
     "start_time": "2020-10-17T21:03:24.366Z"
    }
   },
   "outputs": [],
   "source": [
    "test_data['sentiment']=y_pred_fin"
   ]
  },
  {
   "cell_type": "code",
   "execution_count": null,
   "metadata": {
    "ExecuteTime": {
     "start_time": "2020-10-17T21:03:39.334Z"
    }
   },
   "outputs": [],
   "source": [
    "test_data[['tweetid','sentiment']].to_csv('submission_1_6_svc_mod_nrange3_pos_rbf.csv', index=False)"
   ]
  }
 ],
 "metadata": {
  "kernelspec": {
   "display_name": "Python 3",
   "language": "python",
   "name": "python3"
  },
  "language_info": {
   "codemirror_mode": {
    "name": "ipython",
    "version": 3
   },
   "file_extension": ".py",
   "mimetype": "text/x-python",
   "name": "python",
   "nbconvert_exporter": "python",
   "pygments_lexer": "ipython3",
   "version": "3.7.6"
  }
 },
 "nbformat": 4,
 "nbformat_minor": 4
}
